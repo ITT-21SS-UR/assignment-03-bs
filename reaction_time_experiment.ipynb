{
 "cells": [
  {
   "source": [
    "# Reaction Time Analysis\n",
    "#### Abstract: \n",
    "The following experiment measures the reaction time for a light and dark mode color scheme application. The participants were in a range of 18 to 25 year old german students who use a computer on a daily basis. All of them were familiar with the light/dark mode setting of devices and applications. \n",
    "\n",
    "Each participant made a run either first in light or dark mode and was instructed to press the space key after a geometrical shape was displayed. After each display the reaction time until the space bar was hit is measured.\n",
    "\n",
    "In the second condition the participant was instructed to press the spacebar only if a rectangle shape was displayed and not if a circle appeared. "
   ],
   "cell_type": "markdown",
   "metadata": {}
  },
  {
   "source": [
    "## Extract data from all loggin files"
   ],
   "cell_type": "markdown",
   "metadata": {}
  },
  {
   "cell_type": "code",
   "execution_count": 6,
   "metadata": {},
   "outputs": [],
   "source": [
    "import pandas as pd\n",
    "import glob"
   ]
  },
  {
   "cell_type": "code",
   "execution_count": 78,
   "metadata": {},
   "outputs": [
    {
     "output_type": "display_data",
     "data": {
      "text/plain": "   id  condition   mode  run key_pressed  correct_key_pressed  \\\n0   1          1  light    1       space                 True   \n1   1          1   dark    2       space                False   \n2   1          1   dark    1       space                 True   \n3   1          1  light    2       space                 True   \n\n   reaction_time_in_sec   timestamp  \n0                   0.1  1545730084  \n1                   1.4  1545730089  \n2                   2.0  1545730073  \n3                   2.4  1545730074  ",
      "text/html": "<div>\n<style scoped>\n    .dataframe tbody tr th:only-of-type {\n        vertical-align: middle;\n    }\n\n    .dataframe tbody tr th {\n        vertical-align: top;\n    }\n\n    .dataframe thead th {\n        text-align: right;\n    }\n</style>\n<table border=\"1\" class=\"dataframe\">\n  <thead>\n    <tr style=\"text-align: right;\">\n      <th></th>\n      <th>id</th>\n      <th>condition</th>\n      <th>mode</th>\n      <th>run</th>\n      <th>key_pressed</th>\n      <th>correct_key_pressed</th>\n      <th>reaction_time_in_sec</th>\n      <th>timestamp</th>\n    </tr>\n  </thead>\n  <tbody>\n    <tr>\n      <th>0</th>\n      <td>1</td>\n      <td>1</td>\n      <td>light</td>\n      <td>1</td>\n      <td>space</td>\n      <td>True</td>\n      <td>0.1</td>\n      <td>1545730084</td>\n    </tr>\n    <tr>\n      <th>1</th>\n      <td>1</td>\n      <td>1</td>\n      <td>dark</td>\n      <td>2</td>\n      <td>space</td>\n      <td>False</td>\n      <td>1.4</td>\n      <td>1545730089</td>\n    </tr>\n    <tr>\n      <th>2</th>\n      <td>1</td>\n      <td>1</td>\n      <td>dark</td>\n      <td>1</td>\n      <td>space</td>\n      <td>True</td>\n      <td>2.0</td>\n      <td>1545730073</td>\n    </tr>\n    <tr>\n      <th>3</th>\n      <td>1</td>\n      <td>1</td>\n      <td>light</td>\n      <td>2</td>\n      <td>space</td>\n      <td>True</td>\n      <td>2.4</td>\n      <td>1545730074</td>\n    </tr>\n  </tbody>\n</table>\n</div>"
     },
     "metadata": {}
    }
   ],
   "source": [
    "# read every log file\n",
    "# used code from https://stackoverflow.com/questions/20906474/import-multiple-csv-files-into-pandas-and-concatenate-into-one-dataframe\n",
    "path = '.' # use your path\n",
    "all_files = glob.glob(path + \"/*.csv\")\n",
    "\n",
    "li = []\n",
    "for filename in all_files:\n",
    "    df = pd.read_csv(filename, index_col = None, header = 0)\n",
    "    li.append(df)\n",
    "\n",
    "df_allData = pd.concat(li, axis=0, ignore_index = True)\n",
    "display(df_allData)"
   ]
  },
  {
   "cell_type": "code",
   "execution_count": 79,
   "metadata": {},
   "outputs": [
    {
     "output_type": "stream",
     "name": "stdout",
     "text": [
      "Condition 1: Light\n"
     ]
    },
    {
     "output_type": "display_data",
     "data": {
      "text/plain": "   id  condition   mode  run key_pressed  correct_key_pressed  \\\n0   1          1  light    1       space                 True   \n3   1          1  light    2       space                 True   \n\n   reaction_time_in_sec   timestamp  \n0                   0.1  1545730084  \n3                   2.4  1545730074  ",
      "text/html": "<div>\n<style scoped>\n    .dataframe tbody tr th:only-of-type {\n        vertical-align: middle;\n    }\n\n    .dataframe tbody tr th {\n        vertical-align: top;\n    }\n\n    .dataframe thead th {\n        text-align: right;\n    }\n</style>\n<table border=\"1\" class=\"dataframe\">\n  <thead>\n    <tr style=\"text-align: right;\">\n      <th></th>\n      <th>id</th>\n      <th>condition</th>\n      <th>mode</th>\n      <th>run</th>\n      <th>key_pressed</th>\n      <th>correct_key_pressed</th>\n      <th>reaction_time_in_sec</th>\n      <th>timestamp</th>\n    </tr>\n  </thead>\n  <tbody>\n    <tr>\n      <th>0</th>\n      <td>1</td>\n      <td>1</td>\n      <td>light</td>\n      <td>1</td>\n      <td>space</td>\n      <td>True</td>\n      <td>0.1</td>\n      <td>1545730084</td>\n    </tr>\n    <tr>\n      <th>3</th>\n      <td>1</td>\n      <td>1</td>\n      <td>light</td>\n      <td>2</td>\n      <td>space</td>\n      <td>True</td>\n      <td>2.4</td>\n      <td>1545730074</td>\n    </tr>\n  </tbody>\n</table>\n</div>"
     },
     "metadata": {}
    },
    {
     "output_type": "stream",
     "name": "stdout",
     "text": [
      "Condition 1: Dark\n"
     ]
    },
    {
     "output_type": "display_data",
     "data": {
      "text/plain": "   id  condition  mode  run key_pressed  correct_key_pressed  \\\n1   1          1  dark    2       space                False   \n2   1          1  dark    1       space                 True   \n\n   reaction_time_in_sec   timestamp  \n1                   1.4  1545730089  \n2                   2.0  1545730073  ",
      "text/html": "<div>\n<style scoped>\n    .dataframe tbody tr th:only-of-type {\n        vertical-align: middle;\n    }\n\n    .dataframe tbody tr th {\n        vertical-align: top;\n    }\n\n    .dataframe thead th {\n        text-align: right;\n    }\n</style>\n<table border=\"1\" class=\"dataframe\">\n  <thead>\n    <tr style=\"text-align: right;\">\n      <th></th>\n      <th>id</th>\n      <th>condition</th>\n      <th>mode</th>\n      <th>run</th>\n      <th>key_pressed</th>\n      <th>correct_key_pressed</th>\n      <th>reaction_time_in_sec</th>\n      <th>timestamp</th>\n    </tr>\n  </thead>\n  <tbody>\n    <tr>\n      <th>1</th>\n      <td>1</td>\n      <td>1</td>\n      <td>dark</td>\n      <td>2</td>\n      <td>space</td>\n      <td>False</td>\n      <td>1.4</td>\n      <td>1545730089</td>\n    </tr>\n    <tr>\n      <th>2</th>\n      <td>1</td>\n      <td>1</td>\n      <td>dark</td>\n      <td>1</td>\n      <td>space</td>\n      <td>True</td>\n      <td>2.0</td>\n      <td>1545730073</td>\n    </tr>\n  </tbody>\n</table>\n</div>"
     },
     "metadata": {}
    },
    {
     "output_type": "stream",
     "name": "stdout",
     "text": [
      "Condition 2: Light\n"
     ]
    },
    {
     "output_type": "display_data",
     "data": {
      "text/plain": "   id  condition   mode  run key_pressed  correct_key_pressed  \\\n0   1          1  light    1       space                 True   \n3   1          1  light    2       space                 True   \n\n   reaction_time_in_sec   timestamp  \n0                   0.1  1545730084  \n3                   2.4  1545730074  ",
      "text/html": "<div>\n<style scoped>\n    .dataframe tbody tr th:only-of-type {\n        vertical-align: middle;\n    }\n\n    .dataframe tbody tr th {\n        vertical-align: top;\n    }\n\n    .dataframe thead th {\n        text-align: right;\n    }\n</style>\n<table border=\"1\" class=\"dataframe\">\n  <thead>\n    <tr style=\"text-align: right;\">\n      <th></th>\n      <th>id</th>\n      <th>condition</th>\n      <th>mode</th>\n      <th>run</th>\n      <th>key_pressed</th>\n      <th>correct_key_pressed</th>\n      <th>reaction_time_in_sec</th>\n      <th>timestamp</th>\n    </tr>\n  </thead>\n  <tbody>\n    <tr>\n      <th>0</th>\n      <td>1</td>\n      <td>1</td>\n      <td>light</td>\n      <td>1</td>\n      <td>space</td>\n      <td>True</td>\n      <td>0.1</td>\n      <td>1545730084</td>\n    </tr>\n    <tr>\n      <th>3</th>\n      <td>1</td>\n      <td>1</td>\n      <td>light</td>\n      <td>2</td>\n      <td>space</td>\n      <td>True</td>\n      <td>2.4</td>\n      <td>1545730074</td>\n    </tr>\n  </tbody>\n</table>\n</div>"
     },
     "metadata": {}
    },
    {
     "output_type": "stream",
     "name": "stdout",
     "text": [
      "Condition 2: Dark\n"
     ]
    },
    {
     "output_type": "display_data",
     "data": {
      "text/plain": "   id  condition  mode  run key_pressed  correct_key_pressed  \\\n1   1          1  dark    2       space                False   \n2   1          1  dark    1       space                 True   \n\n   reaction_time_in_sec   timestamp  \n1                   1.4  1545730089  \n2                   2.0  1545730073  ",
      "text/html": "<div>\n<style scoped>\n    .dataframe tbody tr th:only-of-type {\n        vertical-align: middle;\n    }\n\n    .dataframe tbody tr th {\n        vertical-align: top;\n    }\n\n    .dataframe thead th {\n        text-align: right;\n    }\n</style>\n<table border=\"1\" class=\"dataframe\">\n  <thead>\n    <tr style=\"text-align: right;\">\n      <th></th>\n      <th>id</th>\n      <th>condition</th>\n      <th>mode</th>\n      <th>run</th>\n      <th>key_pressed</th>\n      <th>correct_key_pressed</th>\n      <th>reaction_time_in_sec</th>\n      <th>timestamp</th>\n    </tr>\n  </thead>\n  <tbody>\n    <tr>\n      <th>1</th>\n      <td>1</td>\n      <td>1</td>\n      <td>dark</td>\n      <td>2</td>\n      <td>space</td>\n      <td>False</td>\n      <td>1.4</td>\n      <td>1545730089</td>\n    </tr>\n    <tr>\n      <th>2</th>\n      <td>1</td>\n      <td>1</td>\n      <td>dark</td>\n      <td>1</td>\n      <td>space</td>\n      <td>True</td>\n      <td>2.0</td>\n      <td>1545730073</td>\n    </tr>\n  </tbody>\n</table>\n</div>"
     },
     "metadata": {}
    }
   ],
   "source": [
    "# filter data for condition 1 light and dark mode\n",
    "df_condition1_light = df_allData[df_allData['mode'] == \"light\"]\n",
    "print(\"Condition 1: Light\")\n",
    "display(df_condition1_light)\n",
    "df_condition1_dark = df_allData[df_allData['mode'] == \"dark\"]\n",
    "print(\"Condition 1: Dark\")\n",
    "display(df_condition1_dark)\n",
    "\n",
    "# filter data for condition 2 light and dark mode\n",
    "df_condition2_light = df_allData[df_allData['mode'] == \"light\"]\n",
    "print(\"Condition 2: Light\")\n",
    "display(df_condition1_light)\n",
    "df_condition2_dark = df_allData[df_allData['mode'] == \"dark\"]\n",
    "print(\"Condition 2: Dark\")\n",
    "display(df_condition1_dark)"
   ]
  },
  {
   "source": [
    "## Visualize the data\n",
    "### Scatterplots"
   ],
   "cell_type": "markdown",
   "metadata": {}
  },
  {
   "cell_type": "code",
   "execution_count": 15,
   "metadata": {},
   "outputs": [],
   "source": [
    "import matplotlib\n",
    "from matplotlib import pyplot as plt\n",
    "import numpy as np"
   ]
  },
  {
   "cell_type": "code",
   "execution_count": 115,
   "metadata": {},
   "outputs": [
    {
     "output_type": "error",
     "ename": "TypeError",
     "evalue": "can only concatenate str (not \"int\") to str",
     "traceback": [
      "\u001b[0;31m---------------------------------------------------------------------------\u001b[0m",
      "\u001b[0;31mTypeError\u001b[0m                                 Traceback (most recent call last)",
      "\u001b[0;32m<ipython-input-115-56eaa51e79ce>\u001b[0m in \u001b[0;36m<module>\u001b[0;34m\u001b[0m\n\u001b[1;32m      4\u001b[0m \u001b[0;31m#    if (df_condition1_light[df_condition1_light['run'] == i + 1]#['reaction_time_in_sec']):\u001b[0m\u001b[0;34m\u001b[0m\u001b[0;34m\u001b[0m\u001b[0;34m\u001b[0m\u001b[0m\n\u001b[1;32m      5\u001b[0m \u001b[0;31m#       y_values.append(df_condition1_light['reaction_time_in_sec'])\u001b[0m\u001b[0;34m\u001b[0m\u001b[0;34m\u001b[0m\u001b[0;34m\u001b[0m\u001b[0m\n\u001b[0;32m----> 6\u001b[0;31m \u001b[0my_values\u001b[0m \u001b[0;34m=\u001b[0m \u001b[0my_values\u001b[0m\u001b[0;34m.\u001b[0m\u001b[0mappend\u001b[0m\u001b[0;34m(\u001b[0m\u001b[0mdf_condition1_light\u001b[0m\u001b[0;34m[\u001b[0m\u001b[0mdf_condition1_light\u001b[0m\u001b[0;34m[\u001b[0m\u001b[0;34m'run'\u001b[0m\u001b[0;34m]\u001b[0m \u001b[0;34m==\u001b[0m \u001b[0mi\u001b[0m \u001b[0;34m+\u001b[0m \u001b[0;36m1\u001b[0m\u001b[0;34m]\u001b[0m\u001b[0;34m[\u001b[0m\u001b[0;34m'reaction_time_in_sec'\u001b[0m\u001b[0;34m]\u001b[0m\u001b[0;34m.\u001b[0m\u001b[0mto_numpy\u001b[0m\u001b[0;34m(\u001b[0m\u001b[0;34m)\u001b[0m\u001b[0;34m)\u001b[0m\u001b[0;34m\u001b[0m\u001b[0;34m\u001b[0m\u001b[0m\n\u001b[0m\u001b[1;32m      7\u001b[0m \u001b[0mprint\u001b[0m\u001b[0;34m(\u001b[0m\u001b[0my_values\u001b[0m\u001b[0;34m)\u001b[0m\u001b[0;34m\u001b[0m\u001b[0;34m\u001b[0m\u001b[0m\n\u001b[1;32m      8\u001b[0m \u001b[0my\u001b[0m \u001b[0;34m=\u001b[0m \u001b[0;34m[\u001b[0m\u001b[0;34m(\u001b[0m\u001b[0;36m1\u001b[0m\u001b[0;34m,\u001b[0m\u001b[0;36m1\u001b[0m\u001b[0;34m,\u001b[0m\u001b[0;36m2\u001b[0m\u001b[0;34m,\u001b[0m\u001b[0;36m3\u001b[0m\u001b[0;34m,\u001b[0m\u001b[0;36m9\u001b[0m\u001b[0;34m)\u001b[0m\u001b[0;34m,\u001b[0m\u001b[0;34m(\u001b[0m\u001b[0;36m1\u001b[0m\u001b[0;34m,\u001b[0m\u001b[0;36m1\u001b[0m\u001b[0;34m,\u001b[0m\u001b[0;36m2\u001b[0m\u001b[0;34m,\u001b[0m\u001b[0;36m4\u001b[0m\u001b[0;34m)\u001b[0m\u001b[0;34m]\u001b[0m\u001b[0;34m\u001b[0m\u001b[0;34m\u001b[0m\u001b[0m\n",
      "\u001b[0;31mTypeError\u001b[0m: can only concatenate str (not \"int\") to str"
     ]
    }
   ],
   "source": [
    "# condition 1 light\n",
    "y_values = []\n",
    "#for i, entry in df_condition1_light:\n",
    "#    if (df_condition1_light[df_condition1_light['run'] == i + 1]#['reaction_time_in_sec']):\n",
    "#       y_values.append(df_condition1_light['reaction_time_in_sec'])\n",
    "y_values = y_values.append(df_condition1_light[df_condition1_light['run'] == i + 1]['reaction_time_in_sec'].to_numpy())\n",
    "print(y_values)\n",
    "y = [(1,1,2,3,9),(1,1,2,4)]\n",
    "x = range(10)\n",
    "\n",
    "#for xe, ye in zip(x, y):\n",
    "#    plt.scatter([xe] * len(ye), ye)\n",
    "    \n",
    "#plt.title('Condition 1: Light Mode')\n",
    "#plt.ylabel('reaction time (s)')\n",
    "#plt.xlabel('run')\n",
    "\n",
    "plt.show()"
   ]
  },
  {
   "cell_type": "code",
   "execution_count": null,
   "metadata": {},
   "outputs": [],
   "source": []
  }
 ],
 "metadata": {
  "kernelspec": {
   "name": "python385jvsc74a57bd0916dbcbb3f70747c44a77c7bcd40155683ae19c65e1c03b4aa3499c5328201f1",
   "display_name": "Python 3.8.5 64-bit"
  },
  "language_info": {
   "codemirror_mode": {
    "name": "ipython",
    "version": 3
   },
   "file_extension": ".py",
   "mimetype": "text/x-python",
   "name": "python",
   "nbconvert_exporter": "python",
   "pygments_lexer": "ipython3",
   "version": "3.8.5"
  },
  "metadata": {
   "interpreter": {
    "hash": "916dbcbb3f70747c44a77c7bcd40155683ae19c65e1c03b4aa3499c5328201f1"
   }
  }
 },
 "nbformat": 4,
 "nbformat_minor": 4
}