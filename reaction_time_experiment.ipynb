{
 "cells": [
  {
   "source": [
    "# Reaction Time Analysis\n",
    "#### Abstract: The following experiment measures the reaction time for a light and dark mode color scheme application. The participants were in a range of 18 to 25 year old german students who use a computer on a daily basis. All of them were familiar with the light/dark mode setting of devices and applications. \n",
    "\n",
    "Each participant made a run either first in light or dark mode and was instructed to press the space key after a geometrical shape was displayed. After each display the reaction time until the space bar was hit is measured.\n",
    "\n",
    "In the second condition the participant was instructed to press the spacebar only if a rectangle shape was displayed and not if a circle appeared. "
   ],
   "cell_type": "markdown",
   "metadata": {}
  },
  {
   "source": [
    "## Extract data from all loggin files"
   ],
   "cell_type": "markdown",
   "metadata": {}
  },
  {
   "cell_type": "code",
   "execution_count": 6,
   "metadata": {},
   "outputs": [],
   "source": [
    "import pandas as pd\n",
    "import glob"
   ]
  },
  {
   "cell_type": "code",
   "execution_count": 8,
   "metadata": {},
   "outputs": [
    {
     "output_type": "display_data",
     "data": {
      "text/plain": "   id  condition  mode key_pressed  correct_key_pressed  react_time_in_sec  \\\n0   1          1  dark       space                 True                0.1   \n1   1          1  dark       space                False                1.4   \n2   1          1  dark       space                 True                2.0   \n3   1          1  dark       space                 True                2.4   \n\n    timestamp  \n0  1545730084  \n1  1545730089  \n2  1545730073  \n3  1545730074  ",
      "text/html": "<div>\n<style scoped>\n    .dataframe tbody tr th:only-of-type {\n        vertical-align: middle;\n    }\n\n    .dataframe tbody tr th {\n        vertical-align: top;\n    }\n\n    .dataframe thead th {\n        text-align: right;\n    }\n</style>\n<table border=\"1\" class=\"dataframe\">\n  <thead>\n    <tr style=\"text-align: right;\">\n      <th></th>\n      <th>id</th>\n      <th>condition</th>\n      <th>mode</th>\n      <th>key_pressed</th>\n      <th>correct_key_pressed</th>\n      <th>react_time_in_sec</th>\n      <th>timestamp</th>\n    </tr>\n  </thead>\n  <tbody>\n    <tr>\n      <th>0</th>\n      <td>1</td>\n      <td>1</td>\n      <td>dark</td>\n      <td>space</td>\n      <td>True</td>\n      <td>0.1</td>\n      <td>1545730084</td>\n    </tr>\n    <tr>\n      <th>1</th>\n      <td>1</td>\n      <td>1</td>\n      <td>dark</td>\n      <td>space</td>\n      <td>False</td>\n      <td>1.4</td>\n      <td>1545730089</td>\n    </tr>\n    <tr>\n      <th>2</th>\n      <td>1</td>\n      <td>1</td>\n      <td>dark</td>\n      <td>space</td>\n      <td>True</td>\n      <td>2.0</td>\n      <td>1545730073</td>\n    </tr>\n    <tr>\n      <th>3</th>\n      <td>1</td>\n      <td>1</td>\n      <td>dark</td>\n      <td>space</td>\n      <td>True</td>\n      <td>2.4</td>\n      <td>1545730074</td>\n    </tr>\n  </tbody>\n</table>\n</div>"
     },
     "metadata": {}
    }
   ],
   "source": [
    "# read every log file\n",
    "# used code from https://stackoverflow.com/questions/20906474/import-multiple-csv-files-into-pandas-and-concatenate-into-one-dataframe\n",
    "path = '.' # use your path\n",
    "all_files = glob.glob(path + \"/*.csv\")\n",
    "\n",
    "li = []\n",
    "for filename in all_files:\n",
    "    df = pd.read_csv(filename, index_col = None, header = 0)\n",
    "    li.append(df)\n",
    "\n",
    "frame = pd.concat(li, axis=0, ignore_index = True)\n",
    "display(frame)"
   ]
  },
  {
   "source": [
    "## Visualize the data"
   ],
   "cell_type": "markdown",
   "metadata": {}
  },
  {
   "cell_type": "code",
   "execution_count": null,
   "metadata": {},
   "outputs": [],
   "source": []
  }
 ],
 "metadata": {
  "kernelspec": {
   "name": "python385jvsc74a57bd0916dbcbb3f70747c44a77c7bcd40155683ae19c65e1c03b4aa3499c5328201f1",
   "display_name": "Python 3.8.5 64-bit"
  },
  "language_info": {
   "codemirror_mode": {
    "name": "ipython",
    "version": 3
   },
   "file_extension": ".py",
   "mimetype": "text/x-python",
   "name": "python",
   "nbconvert_exporter": "python",
   "pygments_lexer": "ipython3",
   "version": "3.8.5"
  },
  "metadata": {
   "interpreter": {
    "hash": "916dbcbb3f70747c44a77c7bcd40155683ae19c65e1c03b4aa3499c5328201f1"
   }
  }
 },
 "nbformat": 4,
 "nbformat_minor": 4
}